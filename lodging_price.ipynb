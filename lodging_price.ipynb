{
  "cells": [
    {
      "cell_type": "markdown",
      "metadata": {
        "id": "view-in-github",
        "colab_type": "text"
      },
      "source": [
        "<a href=\"https://colab.research.google.com/github/hikaru-okinawa/lodging_price/blob/second-commit/lodging_price.ipynb\" target=\"_parent\"><img src=\"https://colab.research.google.com/assets/colab-badge.svg\" alt=\"Open In Colab\"/></a>"
      ]
    },
    {
      "cell_type": "markdown",
      "metadata": {
        "id": "QK1ocipcDJRf"
      },
      "source": [
        "#ライブラリーをインポート"
      ]
    },
    {
      "cell_type": "code",
      "execution_count": 295,
      "metadata": {
        "id": "yI1TqmIyH2aB"
      },
      "outputs": [],
      "source": [
        "import numpy as np\n",
        "import pandas as pd\n",
        "import matplotlib.pyplot as plt\n",
        "import seaborn as sns"
      ]
    },
    {
      "cell_type": "markdown",
      "metadata": {
        "id": "vJsJYst1uo3-"
      },
      "source": [
        "#データの読み込み"
      ]
    },
    {
      "cell_type": "code",
      "execution_count": 296,
      "metadata": {
        "id": "Q4CavxDmMALM"
      },
      "outputs": [],
      "source": [
        "#データの読み込み\n",
        "df_train_lodging = pd.read_csv('/content/drive/MyDrive/python_for_beginner/民泊サービス/train.csv')\n",
        "df_test_lodging = pd.read_csv('/content/drive/MyDrive/python_for_beginner/民泊サービス/test.csv')"
      ]
    },
    {
      "cell_type": "markdown",
      "metadata": {
        "id": "ARM1wKkU77a9"
      },
      "source": [
        "#データの加工"
      ]
    },
    {
      "cell_type": "code",
      "execution_count": 297,
      "metadata": {
        "colab": {
          "base_uri": "https://localhost:8080/",
          "height": 585
        },
        "id": "ESEfBBk4NqR0",
        "outputId": "452024bd-ab8c-41c8-dab8-2aa71853c3a2"
      },
      "outputs": [
        {
          "output_type": "execute_result",
          "data": {
            "text/plain": [
              "   id  accommodates                                          amenities  \\\n",
              "0   0             6  {TV,\"Wireless Internet\",Kitchen,\"Free parking ...   \n",
              "1   1             2  {TV,\"Cable TV\",Internet,\"Wireless Internet\",\"A...   \n",
              "2   2             2  {TV,Internet,\"Wireless Internet\",Kitchen,\"Indo...   \n",
              "3   3             2  {TV,\"Cable TV\",Internet,\"Wireless Internet\",\"A...   \n",
              "4   4             2  {TV,Internet,\"Wireless Internet\",\"Air conditio...   \n",
              "\n",
              "   bathrooms  bed_type  bedrooms  beds cancellation_policy city cleaning_fee  \\\n",
              "0        2.0  Real Bed       1.0   4.0            flexible   LA            t   \n",
              "1        1.0  Real Bed       1.0   1.0              strict   DC            t   \n",
              "2        2.0  Real Bed       1.0   1.0              strict  NYC            t   \n",
              "3        1.0  Real Bed       1.0   1.0              strict   SF            t   \n",
              "4        1.0  Real Bed       1.0   1.0              strict  NYC            t   \n",
              "\n",
              "   ...   longitude                                               name  \\\n",
              "0  ... -118.154761                                      The Penthouse   \n",
              "1  ...  -76.978190                         Guest Bedroom in Brookland   \n",
              "2  ...  -73.926240  Clean Modern Room in Lux Apt 1 Block From J Train   \n",
              "3  ... -122.411906               BEST views + reviews! 5/5 stars*****   \n",
              "4  ...  -73.974691                 Charming 1-bedroom - UWS Manhattan   \n",
              "\n",
              "     neighbourhood number_of_reviews property_type review_scores_rating  \\\n",
              "0              NaN                 1     Apartment                 60.0   \n",
              "1        Brookland                 9         House                100.0   \n",
              "2         Bushwick                27     Apartment                 83.0   \n",
              "3         Nob Hill                38     Apartment                 95.0   \n",
              "4  Upper West Side                 5     Apartment                100.0   \n",
              "\n",
              "         room_type                                      thumbnail_url  \\\n",
              "0     Private room                                                NaN   \n",
              "1     Private room  https://a0.muscache.com/im/pictures/e4d8b51f-6...   \n",
              "2     Private room  https://a0.muscache.com/im/pictures/5ffecc9b-d...   \n",
              "3     Private room                                                NaN   \n",
              "4  Entire home/apt  https://a0.muscache.com/im/pictures/92879730/5...   \n",
              "\n",
              "   zipcode      y  \n",
              "0    90804  138.0  \n",
              "1    20018   42.0  \n",
              "2      NaN   65.0  \n",
              "3    94133  166.0  \n",
              "4    10024  165.0  \n",
              "\n",
              "[5 rows x 29 columns]"
            ],
            "text/html": [
              "\n",
              "  <div id=\"df-d5c8ee55-6001-4d04-9dee-fdc0c3b54cca\" class=\"colab-df-container\">\n",
              "    <div>\n",
              "<style scoped>\n",
              "    .dataframe tbody tr th:only-of-type {\n",
              "        vertical-align: middle;\n",
              "    }\n",
              "\n",
              "    .dataframe tbody tr th {\n",
              "        vertical-align: top;\n",
              "    }\n",
              "\n",
              "    .dataframe thead th {\n",
              "        text-align: right;\n",
              "    }\n",
              "</style>\n",
              "<table border=\"1\" class=\"dataframe\">\n",
              "  <thead>\n",
              "    <tr style=\"text-align: right;\">\n",
              "      <th></th>\n",
              "      <th>id</th>\n",
              "      <th>accommodates</th>\n",
              "      <th>amenities</th>\n",
              "      <th>bathrooms</th>\n",
              "      <th>bed_type</th>\n",
              "      <th>bedrooms</th>\n",
              "      <th>beds</th>\n",
              "      <th>cancellation_policy</th>\n",
              "      <th>city</th>\n",
              "      <th>cleaning_fee</th>\n",
              "      <th>...</th>\n",
              "      <th>longitude</th>\n",
              "      <th>name</th>\n",
              "      <th>neighbourhood</th>\n",
              "      <th>number_of_reviews</th>\n",
              "      <th>property_type</th>\n",
              "      <th>review_scores_rating</th>\n",
              "      <th>room_type</th>\n",
              "      <th>thumbnail_url</th>\n",
              "      <th>zipcode</th>\n",
              "      <th>y</th>\n",
              "    </tr>\n",
              "  </thead>\n",
              "  <tbody>\n",
              "    <tr>\n",
              "      <th>0</th>\n",
              "      <td>0</td>\n",
              "      <td>6</td>\n",
              "      <td>{TV,\"Wireless Internet\",Kitchen,\"Free parking ...</td>\n",
              "      <td>2.0</td>\n",
              "      <td>Real Bed</td>\n",
              "      <td>1.0</td>\n",
              "      <td>4.0</td>\n",
              "      <td>flexible</td>\n",
              "      <td>LA</td>\n",
              "      <td>t</td>\n",
              "      <td>...</td>\n",
              "      <td>-118.154761</td>\n",
              "      <td>The Penthouse</td>\n",
              "      <td>NaN</td>\n",
              "      <td>1</td>\n",
              "      <td>Apartment</td>\n",
              "      <td>60.0</td>\n",
              "      <td>Private room</td>\n",
              "      <td>NaN</td>\n",
              "      <td>90804</td>\n",
              "      <td>138.0</td>\n",
              "    </tr>\n",
              "    <tr>\n",
              "      <th>1</th>\n",
              "      <td>1</td>\n",
              "      <td>2</td>\n",
              "      <td>{TV,\"Cable TV\",Internet,\"Wireless Internet\",\"A...</td>\n",
              "      <td>1.0</td>\n",
              "      <td>Real Bed</td>\n",
              "      <td>1.0</td>\n",
              "      <td>1.0</td>\n",
              "      <td>strict</td>\n",
              "      <td>DC</td>\n",
              "      <td>t</td>\n",
              "      <td>...</td>\n",
              "      <td>-76.978190</td>\n",
              "      <td>Guest Bedroom in Brookland</td>\n",
              "      <td>Brookland</td>\n",
              "      <td>9</td>\n",
              "      <td>House</td>\n",
              "      <td>100.0</td>\n",
              "      <td>Private room</td>\n",
              "      <td>https://a0.muscache.com/im/pictures/e4d8b51f-6...</td>\n",
              "      <td>20018</td>\n",
              "      <td>42.0</td>\n",
              "    </tr>\n",
              "    <tr>\n",
              "      <th>2</th>\n",
              "      <td>2</td>\n",
              "      <td>2</td>\n",
              "      <td>{TV,Internet,\"Wireless Internet\",Kitchen,\"Indo...</td>\n",
              "      <td>2.0</td>\n",
              "      <td>Real Bed</td>\n",
              "      <td>1.0</td>\n",
              "      <td>1.0</td>\n",
              "      <td>strict</td>\n",
              "      <td>NYC</td>\n",
              "      <td>t</td>\n",
              "      <td>...</td>\n",
              "      <td>-73.926240</td>\n",
              "      <td>Clean Modern Room in Lux Apt 1 Block From J Train</td>\n",
              "      <td>Bushwick</td>\n",
              "      <td>27</td>\n",
              "      <td>Apartment</td>\n",
              "      <td>83.0</td>\n",
              "      <td>Private room</td>\n",
              "      <td>https://a0.muscache.com/im/pictures/5ffecc9b-d...</td>\n",
              "      <td>NaN</td>\n",
              "      <td>65.0</td>\n",
              "    </tr>\n",
              "    <tr>\n",
              "      <th>3</th>\n",
              "      <td>3</td>\n",
              "      <td>2</td>\n",
              "      <td>{TV,\"Cable TV\",Internet,\"Wireless Internet\",\"A...</td>\n",
              "      <td>1.0</td>\n",
              "      <td>Real Bed</td>\n",
              "      <td>1.0</td>\n",
              "      <td>1.0</td>\n",
              "      <td>strict</td>\n",
              "      <td>SF</td>\n",
              "      <td>t</td>\n",
              "      <td>...</td>\n",
              "      <td>-122.411906</td>\n",
              "      <td>BEST views + reviews! 5/5 stars*****</td>\n",
              "      <td>Nob Hill</td>\n",
              "      <td>38</td>\n",
              "      <td>Apartment</td>\n",
              "      <td>95.0</td>\n",
              "      <td>Private room</td>\n",
              "      <td>NaN</td>\n",
              "      <td>94133</td>\n",
              "      <td>166.0</td>\n",
              "    </tr>\n",
              "    <tr>\n",
              "      <th>4</th>\n",
              "      <td>4</td>\n",
              "      <td>2</td>\n",
              "      <td>{TV,Internet,\"Wireless Internet\",\"Air conditio...</td>\n",
              "      <td>1.0</td>\n",
              "      <td>Real Bed</td>\n",
              "      <td>1.0</td>\n",
              "      <td>1.0</td>\n",
              "      <td>strict</td>\n",
              "      <td>NYC</td>\n",
              "      <td>t</td>\n",
              "      <td>...</td>\n",
              "      <td>-73.974691</td>\n",
              "      <td>Charming 1-bedroom - UWS Manhattan</td>\n",
              "      <td>Upper West Side</td>\n",
              "      <td>5</td>\n",
              "      <td>Apartment</td>\n",
              "      <td>100.0</td>\n",
              "      <td>Entire home/apt</td>\n",
              "      <td>https://a0.muscache.com/im/pictures/92879730/5...</td>\n",
              "      <td>10024</td>\n",
              "      <td>165.0</td>\n",
              "    </tr>\n",
              "  </tbody>\n",
              "</table>\n",
              "<p>5 rows × 29 columns</p>\n",
              "</div>\n",
              "    <div class=\"colab-df-buttons\">\n",
              "\n",
              "  <div class=\"colab-df-container\">\n",
              "    <button class=\"colab-df-convert\" onclick=\"convertToInteractive('df-d5c8ee55-6001-4d04-9dee-fdc0c3b54cca')\"\n",
              "            title=\"Convert this dataframe to an interactive table.\"\n",
              "            style=\"display:none;\">\n",
              "\n",
              "  <svg xmlns=\"http://www.w3.org/2000/svg\" height=\"24px\" viewBox=\"0 -960 960 960\">\n",
              "    <path d=\"M120-120v-720h720v720H120Zm60-500h600v-160H180v160Zm220 220h160v-160H400v160Zm0 220h160v-160H400v160ZM180-400h160v-160H180v160Zm440 0h160v-160H620v160ZM180-180h160v-160H180v160Zm440 0h160v-160H620v160Z\"/>\n",
              "  </svg>\n",
              "    </button>\n",
              "\n",
              "  <style>\n",
              "    .colab-df-container {\n",
              "      display:flex;\n",
              "      gap: 12px;\n",
              "    }\n",
              "\n",
              "    .colab-df-convert {\n",
              "      background-color: #E8F0FE;\n",
              "      border: none;\n",
              "      border-radius: 50%;\n",
              "      cursor: pointer;\n",
              "      display: none;\n",
              "      fill: #1967D2;\n",
              "      height: 32px;\n",
              "      padding: 0 0 0 0;\n",
              "      width: 32px;\n",
              "    }\n",
              "\n",
              "    .colab-df-convert:hover {\n",
              "      background-color: #E2EBFA;\n",
              "      box-shadow: 0px 1px 2px rgba(60, 64, 67, 0.3), 0px 1px 3px 1px rgba(60, 64, 67, 0.15);\n",
              "      fill: #174EA6;\n",
              "    }\n",
              "\n",
              "    .colab-df-buttons div {\n",
              "      margin-bottom: 4px;\n",
              "    }\n",
              "\n",
              "    [theme=dark] .colab-df-convert {\n",
              "      background-color: #3B4455;\n",
              "      fill: #D2E3FC;\n",
              "    }\n",
              "\n",
              "    [theme=dark] .colab-df-convert:hover {\n",
              "      background-color: #434B5C;\n",
              "      box-shadow: 0px 1px 3px 1px rgba(0, 0, 0, 0.15);\n",
              "      filter: drop-shadow(0px 1px 2px rgba(0, 0, 0, 0.3));\n",
              "      fill: #FFFFFF;\n",
              "    }\n",
              "  </style>\n",
              "\n",
              "    <script>\n",
              "      const buttonEl =\n",
              "        document.querySelector('#df-d5c8ee55-6001-4d04-9dee-fdc0c3b54cca button.colab-df-convert');\n",
              "      buttonEl.style.display =\n",
              "        google.colab.kernel.accessAllowed ? 'block' : 'none';\n",
              "\n",
              "      async function convertToInteractive(key) {\n",
              "        const element = document.querySelector('#df-d5c8ee55-6001-4d04-9dee-fdc0c3b54cca');\n",
              "        const dataTable =\n",
              "          await google.colab.kernel.invokeFunction('convertToInteractive',\n",
              "                                                    [key], {});\n",
              "        if (!dataTable) return;\n",
              "\n",
              "        const docLinkHtml = 'Like what you see? Visit the ' +\n",
              "          '<a target=\"_blank\" href=https://colab.research.google.com/notebooks/data_table.ipynb>data table notebook</a>'\n",
              "          + ' to learn more about interactive tables.';\n",
              "        element.innerHTML = '';\n",
              "        dataTable['output_type'] = 'display_data';\n",
              "        await google.colab.output.renderOutput(dataTable, element);\n",
              "        const docLink = document.createElement('div');\n",
              "        docLink.innerHTML = docLinkHtml;\n",
              "        element.appendChild(docLink);\n",
              "      }\n",
              "    </script>\n",
              "  </div>\n",
              "\n",
              "\n",
              "<div id=\"df-d3504bae-634f-4b79-b4aa-26dd5048ab72\">\n",
              "  <button class=\"colab-df-quickchart\" onclick=\"quickchart('df-d3504bae-634f-4b79-b4aa-26dd5048ab72')\"\n",
              "            title=\"Suggest charts\"\n",
              "            style=\"display:none;\">\n",
              "\n",
              "<svg xmlns=\"http://www.w3.org/2000/svg\" height=\"24px\"viewBox=\"0 0 24 24\"\n",
              "     width=\"24px\">\n",
              "    <g>\n",
              "        <path d=\"M19 3H5c-1.1 0-2 .9-2 2v14c0 1.1.9 2 2 2h14c1.1 0 2-.9 2-2V5c0-1.1-.9-2-2-2zM9 17H7v-7h2v7zm4 0h-2V7h2v10zm4 0h-2v-4h2v4z\"/>\n",
              "    </g>\n",
              "</svg>\n",
              "  </button>\n",
              "\n",
              "<style>\n",
              "  .colab-df-quickchart {\n",
              "      --bg-color: #E8F0FE;\n",
              "      --fill-color: #1967D2;\n",
              "      --hover-bg-color: #E2EBFA;\n",
              "      --hover-fill-color: #174EA6;\n",
              "      --disabled-fill-color: #AAA;\n",
              "      --disabled-bg-color: #DDD;\n",
              "  }\n",
              "\n",
              "  [theme=dark] .colab-df-quickchart {\n",
              "      --bg-color: #3B4455;\n",
              "      --fill-color: #D2E3FC;\n",
              "      --hover-bg-color: #434B5C;\n",
              "      --hover-fill-color: #FFFFFF;\n",
              "      --disabled-bg-color: #3B4455;\n",
              "      --disabled-fill-color: #666;\n",
              "  }\n",
              "\n",
              "  .colab-df-quickchart {\n",
              "    background-color: var(--bg-color);\n",
              "    border: none;\n",
              "    border-radius: 50%;\n",
              "    cursor: pointer;\n",
              "    display: none;\n",
              "    fill: var(--fill-color);\n",
              "    height: 32px;\n",
              "    padding: 0;\n",
              "    width: 32px;\n",
              "  }\n",
              "\n",
              "  .colab-df-quickchart:hover {\n",
              "    background-color: var(--hover-bg-color);\n",
              "    box-shadow: 0 1px 2px rgba(60, 64, 67, 0.3), 0 1px 3px 1px rgba(60, 64, 67, 0.15);\n",
              "    fill: var(--button-hover-fill-color);\n",
              "  }\n",
              "\n",
              "  .colab-df-quickchart-complete:disabled,\n",
              "  .colab-df-quickchart-complete:disabled:hover {\n",
              "    background-color: var(--disabled-bg-color);\n",
              "    fill: var(--disabled-fill-color);\n",
              "    box-shadow: none;\n",
              "  }\n",
              "\n",
              "  .colab-df-spinner {\n",
              "    border: 2px solid var(--fill-color);\n",
              "    border-color: transparent;\n",
              "    border-bottom-color: var(--fill-color);\n",
              "    animation:\n",
              "      spin 1s steps(1) infinite;\n",
              "  }\n",
              "\n",
              "  @keyframes spin {\n",
              "    0% {\n",
              "      border-color: transparent;\n",
              "      border-bottom-color: var(--fill-color);\n",
              "      border-left-color: var(--fill-color);\n",
              "    }\n",
              "    20% {\n",
              "      border-color: transparent;\n",
              "      border-left-color: var(--fill-color);\n",
              "      border-top-color: var(--fill-color);\n",
              "    }\n",
              "    30% {\n",
              "      border-color: transparent;\n",
              "      border-left-color: var(--fill-color);\n",
              "      border-top-color: var(--fill-color);\n",
              "      border-right-color: var(--fill-color);\n",
              "    }\n",
              "    40% {\n",
              "      border-color: transparent;\n",
              "      border-right-color: var(--fill-color);\n",
              "      border-top-color: var(--fill-color);\n",
              "    }\n",
              "    60% {\n",
              "      border-color: transparent;\n",
              "      border-right-color: var(--fill-color);\n",
              "    }\n",
              "    80% {\n",
              "      border-color: transparent;\n",
              "      border-right-color: var(--fill-color);\n",
              "      border-bottom-color: var(--fill-color);\n",
              "    }\n",
              "    90% {\n",
              "      border-color: transparent;\n",
              "      border-bottom-color: var(--fill-color);\n",
              "    }\n",
              "  }\n",
              "</style>\n",
              "\n",
              "  <script>\n",
              "    async function quickchart(key) {\n",
              "      const quickchartButtonEl =\n",
              "        document.querySelector('#' + key + ' button');\n",
              "      quickchartButtonEl.disabled = true;  // To prevent multiple clicks.\n",
              "      quickchartButtonEl.classList.add('colab-df-spinner');\n",
              "      try {\n",
              "        const charts = await google.colab.kernel.invokeFunction(\n",
              "            'suggestCharts', [key], {});\n",
              "      } catch (error) {\n",
              "        console.error('Error during call to suggestCharts:', error);\n",
              "      }\n",
              "      quickchartButtonEl.classList.remove('colab-df-spinner');\n",
              "      quickchartButtonEl.classList.add('colab-df-quickchart-complete');\n",
              "    }\n",
              "    (() => {\n",
              "      let quickchartButtonEl =\n",
              "        document.querySelector('#df-d3504bae-634f-4b79-b4aa-26dd5048ab72 button');\n",
              "      quickchartButtonEl.style.display =\n",
              "        google.colab.kernel.accessAllowed ? 'block' : 'none';\n",
              "    })();\n",
              "  </script>\n",
              "</div>\n",
              "\n",
              "    </div>\n",
              "  </div>\n"
            ],
            "application/vnd.google.colaboratory.intrinsic+json": {
              "type": "dataframe",
              "variable_name": "df_train_lodging"
            }
          },
          "metadata": {},
          "execution_count": 297
        }
      ],
      "source": [
        "#学習データのサイズの確認\n",
        "df_train_lodging.shape\n",
        "df_train_lodging.head()"
      ]
    },
    {
      "cell_type": "code",
      "execution_count": 298,
      "metadata": {
        "colab": {
          "base_uri": "https://localhost:8080/"
        },
        "id": "fMxyUCdAXtsR",
        "outputId": "a7d10822-3618-4829-962d-ba2ccde59dae"
      },
      "outputs": [
        {
          "output_type": "execute_result",
          "data": {
            "text/plain": [
              "(55583, 29)"
            ]
          },
          "metadata": {},
          "execution_count": 298
        }
      ],
      "source": [
        "df_train_lodging.shape"
      ]
    },
    {
      "cell_type": "code",
      "execution_count": 299,
      "metadata": {
        "colab": {
          "base_uri": "https://localhost:8080/",
          "height": 516
        },
        "id": "kndVSI3Lq9c9",
        "outputId": "36050f90-4924-4d7d-d0c4-f4c6bfdd4f57"
      },
      "outputs": [
        {
          "output_type": "execute_result",
          "data": {
            "text/plain": [
              "   id  accommodates                                          amenities  \\\n",
              "0   0             6  {TV,\"Cable TV\",\"Wireless Internet\",\"Air condit...   \n",
              "1   1             3  {TV,\"Cable TV\",Internet,\"Wireless Internet\",\"A...   \n",
              "2   2             2  {TV,\"Wireless Internet\",\"Air conditioning\",Kit...   \n",
              "3   3             4  {TV,\"Cable TV\",Internet,\"Wireless Internet\",\"A...   \n",
              "4   4             3  {TV,Internet,\"Wireless Internet\",\"Air conditio...   \n",
              "\n",
              "   bathrooms  bed_type  bedrooms  beds cancellation_policy    city  \\\n",
              "0        2.0  Real Bed       2.0   2.0              strict  Boston   \n",
              "1        1.0  Real Bed       1.0   1.0            moderate      LA   \n",
              "2        1.0  Real Bed       0.0   1.0            flexible     NYC   \n",
              "3        1.0  Real Bed       1.0   2.0              strict     NYC   \n",
              "4        1.5  Real Bed       1.0   2.0              strict      LA   \n",
              "\n",
              "  cleaning_fee  ...   latitude   longitude  \\\n",
              "0            t  ...  42.359278  -71.069962   \n",
              "1            t  ...  34.084747 -118.367355   \n",
              "2            f  ...  40.720541  -73.959192   \n",
              "3            f  ...  40.681117  -73.944091   \n",
              "4            t  ...  34.150995 -118.409359   \n",
              "\n",
              "                                                name       neighbourhood  \\\n",
              "0             Gorgeous 2BR/2BA Duplex in Beacon Hill         Beacon Hill   \n",
              "1        Luxury 1 Bedroom West Hollywood City Center      West Hollywood   \n",
              "2  Bedroom with Patio in Prime Williamsburg Locat...        Williamsburg   \n",
              "3                         Cozy apartment in Brooklyn  Bedford-Stuyvesant   \n",
              "4                 Cozy, sunny, pet friendly loft/apt                 NaN   \n",
              "\n",
              "  number_of_reviews property_type review_scores_rating        room_type  \\\n",
              "0                58         House                 90.0  Entire home/apt   \n",
              "1                 4    Guesthouse                100.0  Entire home/apt   \n",
              "2                 0     Apartment                  NaN     Private room   \n",
              "3                 0     Apartment                  NaN  Entire home/apt   \n",
              "4                 6          Loft                 92.0  Entire home/apt   \n",
              "\n",
              "                                       thumbnail_url  zipcode  \n",
              "0  https://a0.muscache.com/im/pictures/7e4808b4-5...    02114  \n",
              "1  https://a0.muscache.com/im/pictures/5392fbd6-6...    90046  \n",
              "2  https://a0.muscache.com/im/pictures/544d3b89-d...  11249.0  \n",
              "3  https://a0.muscache.com/im/pictures/26baf7ba-0...    11216  \n",
              "4  https://a0.muscache.com/im/pictures/86107545/9...    91604  \n",
              "\n",
              "[5 rows x 28 columns]"
            ],
            "text/html": [
              "\n",
              "  <div id=\"df-b90fce7c-10ad-4614-a826-ee7befdf161f\" class=\"colab-df-container\">\n",
              "    <div>\n",
              "<style scoped>\n",
              "    .dataframe tbody tr th:only-of-type {\n",
              "        vertical-align: middle;\n",
              "    }\n",
              "\n",
              "    .dataframe tbody tr th {\n",
              "        vertical-align: top;\n",
              "    }\n",
              "\n",
              "    .dataframe thead th {\n",
              "        text-align: right;\n",
              "    }\n",
              "</style>\n",
              "<table border=\"1\" class=\"dataframe\">\n",
              "  <thead>\n",
              "    <tr style=\"text-align: right;\">\n",
              "      <th></th>\n",
              "      <th>id</th>\n",
              "      <th>accommodates</th>\n",
              "      <th>amenities</th>\n",
              "      <th>bathrooms</th>\n",
              "      <th>bed_type</th>\n",
              "      <th>bedrooms</th>\n",
              "      <th>beds</th>\n",
              "      <th>cancellation_policy</th>\n",
              "      <th>city</th>\n",
              "      <th>cleaning_fee</th>\n",
              "      <th>...</th>\n",
              "      <th>latitude</th>\n",
              "      <th>longitude</th>\n",
              "      <th>name</th>\n",
              "      <th>neighbourhood</th>\n",
              "      <th>number_of_reviews</th>\n",
              "      <th>property_type</th>\n",
              "      <th>review_scores_rating</th>\n",
              "      <th>room_type</th>\n",
              "      <th>thumbnail_url</th>\n",
              "      <th>zipcode</th>\n",
              "    </tr>\n",
              "  </thead>\n",
              "  <tbody>\n",
              "    <tr>\n",
              "      <th>0</th>\n",
              "      <td>0</td>\n",
              "      <td>6</td>\n",
              "      <td>{TV,\"Cable TV\",\"Wireless Internet\",\"Air condit...</td>\n",
              "      <td>2.0</td>\n",
              "      <td>Real Bed</td>\n",
              "      <td>2.0</td>\n",
              "      <td>2.0</td>\n",
              "      <td>strict</td>\n",
              "      <td>Boston</td>\n",
              "      <td>t</td>\n",
              "      <td>...</td>\n",
              "      <td>42.359278</td>\n",
              "      <td>-71.069962</td>\n",
              "      <td>Gorgeous 2BR/2BA Duplex in Beacon Hill</td>\n",
              "      <td>Beacon Hill</td>\n",
              "      <td>58</td>\n",
              "      <td>House</td>\n",
              "      <td>90.0</td>\n",
              "      <td>Entire home/apt</td>\n",
              "      <td>https://a0.muscache.com/im/pictures/7e4808b4-5...</td>\n",
              "      <td>02114</td>\n",
              "    </tr>\n",
              "    <tr>\n",
              "      <th>1</th>\n",
              "      <td>1</td>\n",
              "      <td>3</td>\n",
              "      <td>{TV,\"Cable TV\",Internet,\"Wireless Internet\",\"A...</td>\n",
              "      <td>1.0</td>\n",
              "      <td>Real Bed</td>\n",
              "      <td>1.0</td>\n",
              "      <td>1.0</td>\n",
              "      <td>moderate</td>\n",
              "      <td>LA</td>\n",
              "      <td>t</td>\n",
              "      <td>...</td>\n",
              "      <td>34.084747</td>\n",
              "      <td>-118.367355</td>\n",
              "      <td>Luxury 1 Bedroom West Hollywood City Center</td>\n",
              "      <td>West Hollywood</td>\n",
              "      <td>4</td>\n",
              "      <td>Guesthouse</td>\n",
              "      <td>100.0</td>\n",
              "      <td>Entire home/apt</td>\n",
              "      <td>https://a0.muscache.com/im/pictures/5392fbd6-6...</td>\n",
              "      <td>90046</td>\n",
              "    </tr>\n",
              "    <tr>\n",
              "      <th>2</th>\n",
              "      <td>2</td>\n",
              "      <td>2</td>\n",
              "      <td>{TV,\"Wireless Internet\",\"Air conditioning\",Kit...</td>\n",
              "      <td>1.0</td>\n",
              "      <td>Real Bed</td>\n",
              "      <td>0.0</td>\n",
              "      <td>1.0</td>\n",
              "      <td>flexible</td>\n",
              "      <td>NYC</td>\n",
              "      <td>f</td>\n",
              "      <td>...</td>\n",
              "      <td>40.720541</td>\n",
              "      <td>-73.959192</td>\n",
              "      <td>Bedroom with Patio in Prime Williamsburg Locat...</td>\n",
              "      <td>Williamsburg</td>\n",
              "      <td>0</td>\n",
              "      <td>Apartment</td>\n",
              "      <td>NaN</td>\n",
              "      <td>Private room</td>\n",
              "      <td>https://a0.muscache.com/im/pictures/544d3b89-d...</td>\n",
              "      <td>11249.0</td>\n",
              "    </tr>\n",
              "    <tr>\n",
              "      <th>3</th>\n",
              "      <td>3</td>\n",
              "      <td>4</td>\n",
              "      <td>{TV,\"Cable TV\",Internet,\"Wireless Internet\",\"A...</td>\n",
              "      <td>1.0</td>\n",
              "      <td>Real Bed</td>\n",
              "      <td>1.0</td>\n",
              "      <td>2.0</td>\n",
              "      <td>strict</td>\n",
              "      <td>NYC</td>\n",
              "      <td>f</td>\n",
              "      <td>...</td>\n",
              "      <td>40.681117</td>\n",
              "      <td>-73.944091</td>\n",
              "      <td>Cozy apartment in Brooklyn</td>\n",
              "      <td>Bedford-Stuyvesant</td>\n",
              "      <td>0</td>\n",
              "      <td>Apartment</td>\n",
              "      <td>NaN</td>\n",
              "      <td>Entire home/apt</td>\n",
              "      <td>https://a0.muscache.com/im/pictures/26baf7ba-0...</td>\n",
              "      <td>11216</td>\n",
              "    </tr>\n",
              "    <tr>\n",
              "      <th>4</th>\n",
              "      <td>4</td>\n",
              "      <td>3</td>\n",
              "      <td>{TV,Internet,\"Wireless Internet\",\"Air conditio...</td>\n",
              "      <td>1.5</td>\n",
              "      <td>Real Bed</td>\n",
              "      <td>1.0</td>\n",
              "      <td>2.0</td>\n",
              "      <td>strict</td>\n",
              "      <td>LA</td>\n",
              "      <td>t</td>\n",
              "      <td>...</td>\n",
              "      <td>34.150995</td>\n",
              "      <td>-118.409359</td>\n",
              "      <td>Cozy, sunny, pet friendly loft/apt</td>\n",
              "      <td>NaN</td>\n",
              "      <td>6</td>\n",
              "      <td>Loft</td>\n",
              "      <td>92.0</td>\n",
              "      <td>Entire home/apt</td>\n",
              "      <td>https://a0.muscache.com/im/pictures/86107545/9...</td>\n",
              "      <td>91604</td>\n",
              "    </tr>\n",
              "  </tbody>\n",
              "</table>\n",
              "<p>5 rows × 28 columns</p>\n",
              "</div>\n",
              "    <div class=\"colab-df-buttons\">\n",
              "\n",
              "  <div class=\"colab-df-container\">\n",
              "    <button class=\"colab-df-convert\" onclick=\"convertToInteractive('df-b90fce7c-10ad-4614-a826-ee7befdf161f')\"\n",
              "            title=\"Convert this dataframe to an interactive table.\"\n",
              "            style=\"display:none;\">\n",
              "\n",
              "  <svg xmlns=\"http://www.w3.org/2000/svg\" height=\"24px\" viewBox=\"0 -960 960 960\">\n",
              "    <path d=\"M120-120v-720h720v720H120Zm60-500h600v-160H180v160Zm220 220h160v-160H400v160Zm0 220h160v-160H400v160ZM180-400h160v-160H180v160Zm440 0h160v-160H620v160ZM180-180h160v-160H180v160Zm440 0h160v-160H620v160Z\"/>\n",
              "  </svg>\n",
              "    </button>\n",
              "\n",
              "  <style>\n",
              "    .colab-df-container {\n",
              "      display:flex;\n",
              "      gap: 12px;\n",
              "    }\n",
              "\n",
              "    .colab-df-convert {\n",
              "      background-color: #E8F0FE;\n",
              "      border: none;\n",
              "      border-radius: 50%;\n",
              "      cursor: pointer;\n",
              "      display: none;\n",
              "      fill: #1967D2;\n",
              "      height: 32px;\n",
              "      padding: 0 0 0 0;\n",
              "      width: 32px;\n",
              "    }\n",
              "\n",
              "    .colab-df-convert:hover {\n",
              "      background-color: #E2EBFA;\n",
              "      box-shadow: 0px 1px 2px rgba(60, 64, 67, 0.3), 0px 1px 3px 1px rgba(60, 64, 67, 0.15);\n",
              "      fill: #174EA6;\n",
              "    }\n",
              "\n",
              "    .colab-df-buttons div {\n",
              "      margin-bottom: 4px;\n",
              "    }\n",
              "\n",
              "    [theme=dark] .colab-df-convert {\n",
              "      background-color: #3B4455;\n",
              "      fill: #D2E3FC;\n",
              "    }\n",
              "\n",
              "    [theme=dark] .colab-df-convert:hover {\n",
              "      background-color: #434B5C;\n",
              "      box-shadow: 0px 1px 3px 1px rgba(0, 0, 0, 0.15);\n",
              "      filter: drop-shadow(0px 1px 2px rgba(0, 0, 0, 0.3));\n",
              "      fill: #FFFFFF;\n",
              "    }\n",
              "  </style>\n",
              "\n",
              "    <script>\n",
              "      const buttonEl =\n",
              "        document.querySelector('#df-b90fce7c-10ad-4614-a826-ee7befdf161f button.colab-df-convert');\n",
              "      buttonEl.style.display =\n",
              "        google.colab.kernel.accessAllowed ? 'block' : 'none';\n",
              "\n",
              "      async function convertToInteractive(key) {\n",
              "        const element = document.querySelector('#df-b90fce7c-10ad-4614-a826-ee7befdf161f');\n",
              "        const dataTable =\n",
              "          await google.colab.kernel.invokeFunction('convertToInteractive',\n",
              "                                                    [key], {});\n",
              "        if (!dataTable) return;\n",
              "\n",
              "        const docLinkHtml = 'Like what you see? Visit the ' +\n",
              "          '<a target=\"_blank\" href=https://colab.research.google.com/notebooks/data_table.ipynb>data table notebook</a>'\n",
              "          + ' to learn more about interactive tables.';\n",
              "        element.innerHTML = '';\n",
              "        dataTable['output_type'] = 'display_data';\n",
              "        await google.colab.output.renderOutput(dataTable, element);\n",
              "        const docLink = document.createElement('div');\n",
              "        docLink.innerHTML = docLinkHtml;\n",
              "        element.appendChild(docLink);\n",
              "      }\n",
              "    </script>\n",
              "  </div>\n",
              "\n",
              "\n",
              "<div id=\"df-ba2de481-16bc-4a48-b458-6fdafce74620\">\n",
              "  <button class=\"colab-df-quickchart\" onclick=\"quickchart('df-ba2de481-16bc-4a48-b458-6fdafce74620')\"\n",
              "            title=\"Suggest charts\"\n",
              "            style=\"display:none;\">\n",
              "\n",
              "<svg xmlns=\"http://www.w3.org/2000/svg\" height=\"24px\"viewBox=\"0 0 24 24\"\n",
              "     width=\"24px\">\n",
              "    <g>\n",
              "        <path d=\"M19 3H5c-1.1 0-2 .9-2 2v14c0 1.1.9 2 2 2h14c1.1 0 2-.9 2-2V5c0-1.1-.9-2-2-2zM9 17H7v-7h2v7zm4 0h-2V7h2v10zm4 0h-2v-4h2v4z\"/>\n",
              "    </g>\n",
              "</svg>\n",
              "  </button>\n",
              "\n",
              "<style>\n",
              "  .colab-df-quickchart {\n",
              "      --bg-color: #E8F0FE;\n",
              "      --fill-color: #1967D2;\n",
              "      --hover-bg-color: #E2EBFA;\n",
              "      --hover-fill-color: #174EA6;\n",
              "      --disabled-fill-color: #AAA;\n",
              "      --disabled-bg-color: #DDD;\n",
              "  }\n",
              "\n",
              "  [theme=dark] .colab-df-quickchart {\n",
              "      --bg-color: #3B4455;\n",
              "      --fill-color: #D2E3FC;\n",
              "      --hover-bg-color: #434B5C;\n",
              "      --hover-fill-color: #FFFFFF;\n",
              "      --disabled-bg-color: #3B4455;\n",
              "      --disabled-fill-color: #666;\n",
              "  }\n",
              "\n",
              "  .colab-df-quickchart {\n",
              "    background-color: var(--bg-color);\n",
              "    border: none;\n",
              "    border-radius: 50%;\n",
              "    cursor: pointer;\n",
              "    display: none;\n",
              "    fill: var(--fill-color);\n",
              "    height: 32px;\n",
              "    padding: 0;\n",
              "    width: 32px;\n",
              "  }\n",
              "\n",
              "  .colab-df-quickchart:hover {\n",
              "    background-color: var(--hover-bg-color);\n",
              "    box-shadow: 0 1px 2px rgba(60, 64, 67, 0.3), 0 1px 3px 1px rgba(60, 64, 67, 0.15);\n",
              "    fill: var(--button-hover-fill-color);\n",
              "  }\n",
              "\n",
              "  .colab-df-quickchart-complete:disabled,\n",
              "  .colab-df-quickchart-complete:disabled:hover {\n",
              "    background-color: var(--disabled-bg-color);\n",
              "    fill: var(--disabled-fill-color);\n",
              "    box-shadow: none;\n",
              "  }\n",
              "\n",
              "  .colab-df-spinner {\n",
              "    border: 2px solid var(--fill-color);\n",
              "    border-color: transparent;\n",
              "    border-bottom-color: var(--fill-color);\n",
              "    animation:\n",
              "      spin 1s steps(1) infinite;\n",
              "  }\n",
              "\n",
              "  @keyframes spin {\n",
              "    0% {\n",
              "      border-color: transparent;\n",
              "      border-bottom-color: var(--fill-color);\n",
              "      border-left-color: var(--fill-color);\n",
              "    }\n",
              "    20% {\n",
              "      border-color: transparent;\n",
              "      border-left-color: var(--fill-color);\n",
              "      border-top-color: var(--fill-color);\n",
              "    }\n",
              "    30% {\n",
              "      border-color: transparent;\n",
              "      border-left-color: var(--fill-color);\n",
              "      border-top-color: var(--fill-color);\n",
              "      border-right-color: var(--fill-color);\n",
              "    }\n",
              "    40% {\n",
              "      border-color: transparent;\n",
              "      border-right-color: var(--fill-color);\n",
              "      border-top-color: var(--fill-color);\n",
              "    }\n",
              "    60% {\n",
              "      border-color: transparent;\n",
              "      border-right-color: var(--fill-color);\n",
              "    }\n",
              "    80% {\n",
              "      border-color: transparent;\n",
              "      border-right-color: var(--fill-color);\n",
              "      border-bottom-color: var(--fill-color);\n",
              "    }\n",
              "    90% {\n",
              "      border-color: transparent;\n",
              "      border-bottom-color: var(--fill-color);\n",
              "    }\n",
              "  }\n",
              "</style>\n",
              "\n",
              "  <script>\n",
              "    async function quickchart(key) {\n",
              "      const quickchartButtonEl =\n",
              "        document.querySelector('#' + key + ' button');\n",
              "      quickchartButtonEl.disabled = true;  // To prevent multiple clicks.\n",
              "      quickchartButtonEl.classList.add('colab-df-spinner');\n",
              "      try {\n",
              "        const charts = await google.colab.kernel.invokeFunction(\n",
              "            'suggestCharts', [key], {});\n",
              "      } catch (error) {\n",
              "        console.error('Error during call to suggestCharts:', error);\n",
              "      }\n",
              "      quickchartButtonEl.classList.remove('colab-df-spinner');\n",
              "      quickchartButtonEl.classList.add('colab-df-quickchart-complete');\n",
              "    }\n",
              "    (() => {\n",
              "      let quickchartButtonEl =\n",
              "        document.querySelector('#df-ba2de481-16bc-4a48-b458-6fdafce74620 button');\n",
              "      quickchartButtonEl.style.display =\n",
              "        google.colab.kernel.accessAllowed ? 'block' : 'none';\n",
              "    })();\n",
              "  </script>\n",
              "</div>\n",
              "\n",
              "    </div>\n",
              "  </div>\n"
            ],
            "application/vnd.google.colaboratory.intrinsic+json": {
              "type": "dataframe",
              "variable_name": "df_test_lodging"
            }
          },
          "metadata": {},
          "execution_count": 299
        }
      ],
      "source": [
        "#テストデータのサイズの確認\n",
        "df_test_lodging.shape\n",
        "df_test_lodging.head()"
      ]
    },
    {
      "cell_type": "code",
      "execution_count": 300,
      "metadata": {
        "colab": {
          "base_uri": "https://localhost:8080/"
        },
        "id": "s8glifNJrb2n",
        "outputId": "f24e513f-b976-43da-9cb8-58511814ec50"
      },
      "outputs": [
        {
          "output_type": "execute_result",
          "data": {
            "text/plain": [
              "id                          int64\n",
              "accommodates                int64\n",
              "amenities                  object\n",
              "bathrooms                 float64\n",
              "bed_type                   object\n",
              "bedrooms                  float64\n",
              "beds                      float64\n",
              "cancellation_policy        object\n",
              "city                       object\n",
              "cleaning_fee               object\n",
              "description                object\n",
              "first_review               object\n",
              "host_has_profile_pic       object\n",
              "host_identity_verified     object\n",
              "host_response_rate         object\n",
              "host_since                 object\n",
              "instant_bookable           object\n",
              "last_review                object\n",
              "latitude                  float64\n",
              "longitude                 float64\n",
              "name                       object\n",
              "neighbourhood              object\n",
              "number_of_reviews           int64\n",
              "property_type              object\n",
              "review_scores_rating      float64\n",
              "room_type                  object\n",
              "thumbnail_url              object\n",
              "zipcode                    object\n",
              "y                         float64\n",
              "dtype: object"
            ]
          },
          "metadata": {},
          "execution_count": 300
        }
      ],
      "source": [
        "#学習データのデータ型の確認\n",
        "df_train_lodging.dtypes"
      ]
    },
    {
      "cell_type": "markdown",
      "source": [
        "##特徴量の選択\n",
        "------------------\n"
      ],
      "metadata": {
        "id": "t7RVsz4ppN3B"
      }
    },
    {
      "cell_type": "code",
      "execution_count": 301,
      "metadata": {
        "id": "P1EnksSRrbrR"
      },
      "outputs": [],
      "source": [
        "df_train_lodging = df_train_lodging.drop(columns=['amenities',\n",
        "                                                  'description',\n",
        "                                                  'name', 'thumbnail_url',\n",
        "                                                  'zipcode', 'first_review',\n",
        "                                                  'host_since', 'last_review',\n",
        "                                                  'neighbourhood', 'host_response_rate',\n",
        "                                                  'number_of_reviews', 'instant_bookable',\n",
        "                                                  'id','cancellation_policy','host_has_profile_pic',\n",
        "                                                  'host_has_profile_pic', 'host_identity_verified'])\n"
      ]
    },
    {
      "cell_type": "code",
      "execution_count": 302,
      "metadata": {
        "colab": {
          "base_uri": "https://localhost:8080/"
        },
        "id": "1lOwi8i1NxFt",
        "outputId": "0cedbc23-05da-4263-deac-c55242cfec3a"
      },
      "outputs": [
        {
          "output_type": "execute_result",
          "data": {
            "text/plain": [
              "accommodates                0\n",
              "bathrooms                 147\n",
              "bed_type                    0\n",
              "bedrooms                   71\n",
              "beds                       96\n",
              "city                        0\n",
              "cleaning_fee                0\n",
              "latitude                    0\n",
              "longitude                   0\n",
              "property_type               0\n",
              "review_scores_rating    12556\n",
              "room_type                   0\n",
              "y                           0\n",
              "dtype: int64"
            ]
          },
          "metadata": {},
          "execution_count": 302
        }
      ],
      "source": [
        "#欠損データの確認(train)\n",
        "df_train_lodging.isnull().sum()"
      ]
    },
    {
      "cell_type": "code",
      "execution_count": 303,
      "metadata": {
        "colab": {
          "base_uri": "https://localhost:8080/"
        },
        "id": "_4d8j7DMsXQQ",
        "outputId": "45e5ae0b-424b-42ae-b7d7-892b30e95251"
      },
      "outputs": [
        {
          "output_type": "execute_result",
          "data": {
            "text/plain": [
              "id                           0\n",
              "accommodates                 0\n",
              "amenities                    0\n",
              "bathrooms                   53\n",
              "bed_type                     0\n",
              "bedrooms                    20\n",
              "beds                        35\n",
              "cancellation_policy          0\n",
              "city                         0\n",
              "cleaning_fee                 0\n",
              "description                  0\n",
              "first_review              3956\n",
              "host_has_profile_pic        40\n",
              "host_identity_verified      40\n",
              "host_response_rate        4595\n",
              "host_since                  40\n",
              "instant_bookable             0\n",
              "last_review               3947\n",
              "latitude                     0\n",
              "longitude                    0\n",
              "name                         0\n",
              "neighbourhood             1712\n",
              "number_of_reviews            0\n",
              "property_type                0\n",
              "review_scores_rating      4166\n",
              "room_type                    0\n",
              "thumbnail_url             2071\n",
              "zipcode                    250\n",
              "dtype: int64"
            ]
          },
          "metadata": {},
          "execution_count": 303
        }
      ],
      "source": [
        "#欠損データの確認(test)\n",
        "df_test_lodging.isnull().sum()"
      ]
    },
    {
      "cell_type": "code",
      "execution_count": 304,
      "metadata": {
        "id": "68cNC9H1n65Z"
      },
      "outputs": [],
      "source": [
        "#欠損データの削除\n",
        "df_train_lodging = df_train_lodging.dropna()"
      ]
    },
    {
      "cell_type": "code",
      "execution_count": 305,
      "metadata": {
        "colab": {
          "base_uri": "https://localhost:8080/"
        },
        "id": "Mf6KCM31NxIT",
        "outputId": "e540b034-3271-46f6-c61b-fc967977ac4d"
      },
      "outputs": [
        {
          "output_type": "execute_result",
          "data": {
            "text/plain": [
              "(42828, 13)"
            ]
          },
          "metadata": {},
          "execution_count": 305
        }
      ],
      "source": [
        "#欠損データを削除した後のデータのサイズの確認\n",
        "df_train_lodging.shape"
      ]
    },
    {
      "cell_type": "code",
      "execution_count": 306,
      "metadata": {
        "id": "nb_mEz0UYso8"
      },
      "outputs": [],
      "source": [
        "#データのコピー\n",
        "df_train_lodging1 = df_train_lodging.copy()"
      ]
    },
    {
      "cell_type": "code",
      "execution_count": 307,
      "metadata": {
        "colab": {
          "base_uri": "https://localhost:8080/"
        },
        "id": "e_hah_gqDf8k",
        "outputId": "40aa96b9-b319-409e-cfc5-5474add9edf3"
      },
      "outputs": [
        {
          "output_type": "stream",
          "name": "stdout",
          "text": [
            "Index(['accommodates', 'bathrooms', 'bed_type', 'bedrooms', 'beds', 'city',\n",
            "       'cleaning_fee', 'latitude', 'longitude', 'property_type',\n",
            "       'review_scores_rating', 'room_type', 'y'],\n",
            "      dtype='object')\n"
          ]
        }
      ],
      "source": [
        "#コラムリスト\n",
        "columns_list = df_train_lodging1.columns\n",
        "print(columns_list)"
      ]
    },
    {
      "cell_type": "markdown",
      "metadata": {
        "id": "SUUnFwoidDkM"
      },
      "source": [
        "#float列をintに変換"
      ]
    },
    {
      "cell_type": "code",
      "execution_count": 308,
      "metadata": {
        "id": "mcOOi6HxdAif"
      },
      "outputs": [],
      "source": [
        "# # float型からint型に変換\n",
        "# df_train_lodging1['bathrooms'] = df_train_lodging1['bathrooms'].astype(int)\n",
        "# df_train_lodging1['bedrooms'] = df_train_lodging1['bedrooms'].astype(int)\n",
        "# df_train_lodging1['beds'] = df_train_lodging1['beds'].astype(int)\n",
        "# df_train_lodging1['latitude'] = df_train_lodging1['latitude'].astype(int)\n",
        "# df_train_lodging1['longitude'] = df_train_lodging1['longitude'].astype(int)\n",
        "# #df_train_lodging1['review_scores_rating'] = df_train_lodging1['review_scores_rating'].astype(int)\n",
        "# df_train_lodging1['y'] = df_train_lodging1['y'].astype(int)"
      ]
    },
    {
      "cell_type": "code",
      "execution_count": 308,
      "metadata": {
        "id": "nFx3EwSudArV"
      },
      "outputs": [],
      "source": []
    },
    {
      "cell_type": "code",
      "execution_count": 308,
      "metadata": {
        "id": "ipYssex2dA0B"
      },
      "outputs": [],
      "source": []
    },
    {
      "cell_type": "markdown",
      "source": [
        "##特徴量リスト\n",
        "-------------------"
      ],
      "metadata": {
        "id": "czUk60z9yqWa"
      }
    },
    {
      "cell_type": "markdown",
      "source": [
        "- accommodates\n",
        "- bathrooms\n",
        "- bed_type\n",
        "- bedrooms\n",
        "- beds\n",
        "- city\n",
        "- cleaning_fee\n",
        "- latitude\n",
        "- longitude\n",
        "- property_type\n",
        "- review_scores_rating\n",
        "- room_type\n",
        "- y"
      ],
      "metadata": {
        "id": "Fjx91ZCgz0g6"
      }
    },
    {
      "cell_type": "markdown",
      "metadata": {
        "id": "qNku-tLqY0uJ"
      },
      "source": [
        "#カテゴリ変数を数値化する\n",
        "----------------------------------\n"
      ]
    },
    {
      "cell_type": "markdown",
      "source": [
        "- amenities → 削除\n",
        "- bed_type → one-hot\n",
        "- cancellation_policy → label Encoding\n",
        "- city → one-hot\n",
        "- cleaning_fee → one-hot\n",
        "- description → 削除\n",
        "- first_review → 日付を年、月、日の数値に分割する\n",
        "- host_has_profile_pic → one-hot\n",
        "- host_identity_verified → one-hot     \n",
        "- host_response_rate → label Encoding          \n",
        "- host_since → 日付を年、月、日の数値に分割する                \n",
        "- instant_bookable → one-hot            \n",
        "- last_review → 日付を年、月、日の数値に分割する\n",
        "- name → 削除\n",
        "- neighbourhood → one-hot\n",
        "- property_type → one-hot\n",
        "- room_type → one-hot                \n",
        "- thumbnail_url → 削除           \n",
        "- zipcode → 削除"
      ],
      "metadata": {
        "id": "nfTmFzkC0a53"
      }
    },
    {
      "cell_type": "code",
      "execution_count": 309,
      "metadata": {
        "id": "Ye7LkGU89_Lm"
      },
      "outputs": [],
      "source": [
        "#bed type onehotエンコーディング\n",
        "ohe_bed_type = pd.get_dummies(df_train_lodging1['bed_type'], prefix='bed_type')\n",
        "df_train_lodging1 = pd.concat([df_train_lodging1, ohe_bed_type], axis=1)\n",
        "#bed_typeコラムの削除(文字列)\n",
        "df_train_lodging1 = df_train_lodging1.drop(columns=['bed_type'])"
      ]
    },
    {
      "cell_type": "code",
      "execution_count": 310,
      "metadata": {
        "id": "xRgdYV3leV6P"
      },
      "outputs": [],
      "source": [
        "# #cancellation_policy データを可視化\n",
        "# plt.figure(figsize=(6, 4))\n",
        "# sns.countplot(data=df_train_lodging1, x='cancellation_policy')\n",
        "# #plt.show()"
      ]
    },
    {
      "cell_type": "code",
      "execution_count": 311,
      "metadata": {
        "id": "0FW4W1Kz9_GH"
      },
      "outputs": [],
      "source": [
        "# #cancellation_policy → label Encoding\n",
        "# from sklearn.preprocessing import LabelEncoder\n",
        "# le = LabelEncoder()\n",
        "# df_train_lodging1['cancellation_policy'] = le.fit_transform(df_train_lodging1['cancellation_policy'])\n",
        "# #df_train_lodging1.head()"
      ]
    },
    {
      "cell_type": "code",
      "execution_count": 312,
      "metadata": {
        "id": "z-G83qcR9_C6"
      },
      "outputs": [],
      "source": [
        "#city onehotエンコーディング\n",
        "ohe_city = pd.get_dummies(df_train_lodging1['city'], prefix='city')\n",
        "df_train_lodging1 = pd.concat([df_train_lodging1, ohe_city], axis=1)\n",
        "#bed_typeコラムの削除(文字列)\n",
        "df_train_lodging1 = df_train_lodging1.drop(columns=['city'])"
      ]
    },
    {
      "cell_type": "code",
      "execution_count": 313,
      "metadata": {
        "id": "tE-SjPhX9-_j"
      },
      "outputs": [],
      "source": [
        "#cleaning_fee onehotエンコーディング\n",
        "ohe_cleaning_fee = pd.get_dummies(df_train_lodging1['cleaning_fee'], prefix='cleaning_fee')\n",
        "df_train_lodging1 = pd.concat([df_train_lodging1, ohe_cleaning_fee], axis=1)\n",
        "#bed_typeコラムの削除(文字列)\n",
        "df_train_lodging1 = df_train_lodging1.drop(columns=['cleaning_fee'])"
      ]
    },
    {
      "cell_type": "code",
      "execution_count": 314,
      "metadata": {
        "id": "3jPiVs_B9-7-"
      },
      "outputs": [],
      "source": [
        "# #host_has_profile_pic onehotエンコーディング\n",
        "# ohe_host_has_profile_pic = pd.get_dummies(df_train_lodging1['host_has_profile_pic'], prefix='host_has_profile_pic')\n",
        "# df_train_lodging1 = pd.concat([df_train_lodging1, ohe_host_has_profile_pic], axis=1)\n",
        "# #bed_typeコラムの削除(文字列)\n",
        "# df_train_lodging1 = df_train_lodging1.drop(columns=['host_has_profile_pic'])"
      ]
    },
    {
      "cell_type": "code",
      "execution_count": 315,
      "metadata": {
        "id": "CRaW1vQMJZMx"
      },
      "outputs": [],
      "source": [
        "# #host_identity_verified onehotエンコーディング\n",
        "# ohe_host_identity_verified = pd.get_dummies(df_train_lodging1['host_identity_verified'], prefix='host_identity_verified')\n",
        "# df_train_lodging1 = pd.concat([df_train_lodging1, ohe_host_identity_verified], axis=1)\n",
        "# #bed_typeコラムの削除(文字列)\n",
        "# df_train_lodging1 = df_train_lodging1.drop(columns=['host_identity_verified'])"
      ]
    },
    {
      "cell_type": "code",
      "execution_count": 316,
      "metadata": {
        "id": "5T-ERp7dJZAf"
      },
      "outputs": [],
      "source": [
        "#host_response_rate → label Encoding\n",
        "\n",
        "#df_train_lodging1['host_response_rate'] = le.fit_transform(df_train_lodging1['host_response_rate'])\n",
        "#df_train_lodging1.head()"
      ]
    },
    {
      "cell_type": "code",
      "execution_count": 317,
      "metadata": {
        "id": "VAhvXbQLJY-0"
      },
      "outputs": [],
      "source": [
        "# #instant_bookable onehotエンコーディング\n",
        "# ohe_instant_bookable = pd.get_dummies(df_train_lodging1['instant_bookable'], prefix='instant_bookable')\n",
        "# df_train_lodging1 = pd.concat([df_train_lodging1, ohe_instant_bookable], axis=1)\n",
        "# #bed_typeコラムの削除(文字列)\n",
        "# df_train_lodging1 = df_train_lodging1.drop(columns=['instant_bookable'])"
      ]
    },
    {
      "cell_type": "code",
      "execution_count": 318,
      "metadata": {
        "id": "dt4QR5hZJY5g"
      },
      "outputs": [],
      "source": [
        "# #neighbourhood onehotエンコーディング\n",
        "# ohe_neighbourhood = pd.get_dummies(df_train_lodging1['neighbourhood'], prefix='neighbourhood')\n",
        "# df_train_lodging1 = pd.concat([df_train_lodging1, ohe_neighbourhood], axis=1)\n",
        "# #bed_typeコラムの削除(文字列)\n",
        "# df_train_lodging1 = df_train_lodging1.drop(columns=['neighbourhood'])"
      ]
    },
    {
      "cell_type": "code",
      "execution_count": 319,
      "metadata": {
        "id": "Lb1AmeWuJY3I"
      },
      "outputs": [],
      "source": [
        "#property_type onehotエンコーディング\n",
        "ohe_property_type = pd.get_dummies(df_train_lodging1['property_type'], prefix='property_type')\n",
        "df_train_lodging1 = pd.concat([df_train_lodging1, ohe_property_type], axis=1)\n",
        "#bed_typeコラムの削除(文字列)\n",
        "df_train_lodging1 = df_train_lodging1.drop(columns=['property_type'])"
      ]
    },
    {
      "cell_type": "code",
      "execution_count": 320,
      "metadata": {
        "id": "D3G151DHJY1x"
      },
      "outputs": [],
      "source": [
        "#room_type onehotエンコーディング\n",
        "ohe_room_type = pd.get_dummies(df_train_lodging1['room_type'], prefix='room_type')\n",
        "df_train_lodging1 = pd.concat([df_train_lodging1, ohe_room_type], axis=1)\n",
        "#bed_typeコラムの削除(文字列)\n",
        "df_train_lodging1 = df_train_lodging1.drop(columns=['room_type'])"
      ]
    },
    {
      "cell_type": "code",
      "execution_count": 321,
      "metadata": {
        "colab": {
          "base_uri": "https://localhost:8080/"
        },
        "id": "d-oUTbJ3fxSi",
        "outputId": "c678fda9-9673-44ad-d264-88e3d9c4c830"
      },
      "outputs": [
        {
          "output_type": "stream",
          "name": "stdout",
          "text": [
            "Index(['accommodates', 'bathrooms', 'bedrooms', 'beds', 'latitude',\n",
            "       'longitude', 'review_scores_rating', 'y', 'bed_type_Airbed',\n",
            "       'bed_type_Couch', 'bed_type_Futon', 'bed_type_Pull-out Sofa',\n",
            "       'bed_type_Real Bed', 'city_Boston', 'city_Chicago', 'city_DC',\n",
            "       'city_LA', 'city_NYC', 'city_SF', 'cleaning_fee_f', 'cleaning_fee_t',\n",
            "       'property_type_Apartment', 'property_type_Bed & Breakfast',\n",
            "       'property_type_Boat', 'property_type_Boutique hotel',\n",
            "       'property_type_Bungalow', 'property_type_Cabin',\n",
            "       'property_type_Camper/RV', 'property_type_Castle', 'property_type_Cave',\n",
            "       'property_type_Chalet', 'property_type_Condominium',\n",
            "       'property_type_Dorm', 'property_type_Earth House',\n",
            "       'property_type_Guest suite', 'property_type_Guesthouse',\n",
            "       'property_type_Hostel', 'property_type_House', 'property_type_Hut',\n",
            "       'property_type_In-law', 'property_type_Island', 'property_type_Loft',\n",
            "       'property_type_Other', 'property_type_Serviced apartment',\n",
            "       'property_type_Tent', 'property_type_Timeshare', 'property_type_Tipi',\n",
            "       'property_type_Townhouse', 'property_type_Train',\n",
            "       'property_type_Treehouse', 'property_type_Vacation home',\n",
            "       'property_type_Villa', 'property_type_Yurt',\n",
            "       'room_type_Entire home/apt', 'room_type_Private room',\n",
            "       'room_type_Shared room'],\n",
            "      dtype='object')\n"
          ]
        },
        {
          "output_type": "execute_result",
          "data": {
            "text/plain": [
              "(56,)"
            ]
          },
          "metadata": {},
          "execution_count": 321
        }
      ],
      "source": [
        "columns = df_train_lodging1.columns\n",
        "print(columns)\n",
        "columns.shape"
      ]
    },
    {
      "cell_type": "markdown",
      "metadata": {
        "id": "lKruM56WW9hs"
      },
      "source": [
        "#numpy array 型に変換"
      ]
    },
    {
      "cell_type": "code",
      "execution_count": 322,
      "metadata": {
        "id": "eb_hF51DW9UJ"
      },
      "outputs": [],
      "source": [
        "t = df_train_lodging1['y'].values"
      ]
    },
    {
      "cell_type": "code",
      "execution_count": 323,
      "metadata": {
        "id": "EEGLZfrfY002"
      },
      "outputs": [],
      "source": [
        "x = df_train_lodging1.drop(labels=['y'], axis=1).values"
      ]
    },
    {
      "cell_type": "markdown",
      "metadata": {
        "id": "AJiz_F7sQNjV"
      },
      "source": [
        "#学習データと検証データの分割"
      ]
    },
    {
      "cell_type": "code",
      "execution_count": 324,
      "metadata": {
        "id": "MQbKJBCwJYxS"
      },
      "outputs": [],
      "source": [
        "from sklearn.model_selection import train_test_split\n",
        "from sklearn.preprocessing import StandardScaler"
      ]
    },
    {
      "cell_type": "code",
      "execution_count": 325,
      "metadata": {
        "id": "eaZOvBipJYt1"
      },
      "outputs": [],
      "source": [
        "x_train, x_test, t_train, t_test = train_test_split(x, t, test_size=0.3, random_state=0)"
      ]
    },
    {
      "cell_type": "markdown",
      "metadata": {
        "id": "Fo1RY_uuEyL2"
      },
      "source": [
        "#データの正規化"
      ]
    },
    {
      "cell_type": "code",
      "execution_count": 326,
      "metadata": {
        "id": "ALMqs9yRE3mi"
      },
      "outputs": [],
      "source": [
        "sc = StandardScaler()\n",
        "# sc.fit(x_train)\n",
        "x_train = sc.fit_transform(x_train)\n",
        "x_test = sc.transform(x_test)"
      ]
    },
    {
      "cell_type": "markdown",
      "metadata": {
        "id": "jNjXeYhj99Op"
      },
      "source": [
        "#線形回帰\n"
      ]
    },
    {
      "cell_type": "code",
      "execution_count": 326,
      "metadata": {
        "id": "k2G8yJWaY5lw"
      },
      "outputs": [],
      "source": []
    },
    {
      "cell_type": "code",
      "execution_count": 327,
      "metadata": {
        "colab": {
          "base_uri": "https://localhost:8080/"
        },
        "id": "3Ucys_IKNxMw",
        "outputId": "f9db7409-df09-448d-c87f-84d4c9173cca"
      },
      "outputs": [
        {
          "output_type": "stream",
          "name": "stdout",
          "text": [
            "0.5178891331390105\n"
          ]
        }
      ],
      "source": [
        "#ライブラリーのインポート\n",
        "from sklearn.linear_model import LinearRegression\n",
        "\n",
        "# スコア計算のためのライブラリ\n",
        "from sklearn.metrics import r2_score\n",
        "from sklearn.metrics import mean_absolute_error\n",
        "\n",
        "#　モデルの選択\n",
        "from sklearn.linear_model import SGDClassifier, LinearRegression, SGDRegressor\n",
        "from sklearn.ensemble import GradientBoostingRegressor, RandomForestRegressor\n",
        "\n",
        "# model = SGDClassifier(loss='log_loss', random_state=0)\n",
        "model = LinearRegression()\n",
        "# model = SGDRegressor(max_iter=100, tol=1e-3, penalty=None, eta0=0.01, random_state=0)\n",
        "# model = GradientBoostingRegressor(n_estimators=100, learning_rate=0.1, max_depth=3, random_state=0)\n",
        "# model = RandomForestRegressor(n_estimators=100, random_state=0)\n",
        "\n",
        "#モデルの学習\n",
        "model.fit(x_train, t_train)\n",
        "\n",
        "# 回帰\n",
        "model_pred = model.predict(x_test)\n",
        "\n",
        "# 評価\n",
        "#学習データの評価\n",
        "train_score = model.score(x_train, t_train)\n",
        "print(train_score)\n",
        "# # 決定係数(R2)\n",
        "# r2_model = r2_score(t_test, model_pred)\n",
        "\n",
        "# # 平均絶対誤差(MAE)\n",
        "# mae_model = mean_absolute_error(t_test, model_pred)\n",
        "\n",
        "# print(\"R2 : %.3f\" % r2_model)\n",
        "# print(\"MAE : %.3f\" % mae_model)\n",
        "\n",
        "# # # 回帰係数\n",
        "# # print(\"Coef = \", model.coef_)\n",
        "# # # 切片\n",
        "# # print(\"Intercept =\", model.intercept_)\n",
        "\n"
      ]
    },
    {
      "cell_type": "code",
      "execution_count": 328,
      "metadata": {
        "colab": {
          "base_uri": "https://localhost:8080/",
          "height": 1000
        },
        "id": "thp0YAiMVaS2",
        "outputId": "b12457ba-891a-4e1b-afd5-fc00a137f828"
      },
      "outputs": [
        {
          "output_type": "display_data",
          "data": {
            "text/plain": [
              "<Figure size 800x10000 with 1 Axes>"
            ],
            "image/png": "[encoded data removed]"
          },
          "metadata": {}
        }
      ],
      "source": [
        "#coef = model.feature_importances_\n",
        "coef = model.coef_\n",
        "columns = df_train_lodging1.columns\n",
        "features_importances = zip(columns, coef)\n",
        "sorted_features = sorted(features_importances, key=lambda x: abs(x[1]), reverse=True)\n",
        "\n",
        "# データの準備\n",
        "labels, values = zip(*sorted_features)\n",
        "#labels, values = zip(*features_importances)\n",
        "\n",
        "plt.figure(figsize=(8, 100))\n",
        "# 棒グラフのプロット\n",
        "plt.barh(range(len(labels)), values, align='center')\n",
        "plt.yticks(range(len(labels)), labels)\n",
        "plt.xlabel('Importance')\n",
        "plt.ylabel('Feature')\n",
        "plt.title('Feature Importance')\n",
        "plt.gca().invert_yaxis()  # グラフを重要度の高い順に表示\n",
        "plt.show()"
      ]
    },
    {
      "cell_type": "markdown",
      "metadata": {
        "id": "pgg0_PZoVX_I"
      },
      "source": []
    },
    {
      "cell_type": "code",
      "execution_count": 329,
      "metadata": {
        "colab": {
          "base_uri": "https://localhost:8080/",
          "height": 450
        },
        "id": "y_ty4igCMhrw",
        "outputId": "93c3f59d-5499-4a62-81e1-45e49f3f7f5f"
      },
      "outputs": [
        {
          "output_type": "display_data",
          "data": {
            "text/plain": [
              "<Figure size 640x480 with 1 Axes>"
            ],
            "image/png": "[encoded data removed]"
          },
          "metadata": {}
        }
      ],
      "source": [
        "# ライブラリーのインポート\n",
        "import matplotlib.pyplot as plt\n",
        "%matplotlib inline\n",
        "\n",
        "plt.xlabel(\"model_pred\")\n",
        "plt.ylabel(\"t_test\")\n",
        "plt.scatter(model_pred, t_test)\n",
        "\n",
        "plt.show()"
      ]
    },
    {
      "cell_type": "markdown",
      "metadata": {
        "id": "a_er4aTQ_fVQ"
      },
      "source": [
        "#モデルのスコア"
      ]
    },
    {
      "cell_type": "code",
      "execution_count": 330,
      "metadata": {
        "colab": {
          "base_uri": "https://localhost:8080/"
        },
        "id": "LN2Lw3DgNxUf",
        "outputId": "656ba344-c05a-4c9d-9937-345f5b16635b"
      },
      "outputs": [
        {
          "output_type": "execute_result",
          "data": {
            "text/plain": [
              "0.5178891331390105"
            ]
          },
          "metadata": {},
          "execution_count": 330
        }
      ],
      "source": [
        "train_score = model.score(x_train, t_train)\n",
        "train_score"
      ]
    },
    {
      "cell_type": "code",
      "execution_count": 331,
      "metadata": {
        "id": "sZ52qQilkTel"
      },
      "outputs": [],
      "source": [
        "val_pred = model.predict(x_test)\n",
        "from sklearn.metrics import r2_score"
      ]
    },
    {
      "cell_type": "code",
      "execution_count": 332,
      "metadata": {
        "colab": {
          "base_uri": "https://localhost:8080/"
        },
        "id": "9L6E_BDgNxYw",
        "outputId": "f3bec9e9-2f2a-428d-c592-0757ffddac8a"
      },
      "outputs": [
        {
          "output_type": "stream",
          "name": "stdout",
          "text": [
            "Validation R^2:\" 50.4\n"
          ]
        }
      ],
      "source": [
        "# 回帰モデルの評価\n",
        "val_r2 = r2_score(t_test, val_pred)\n",
        "print(f'Validation R^2:\" {round((val_r2 * 100), 2)}')"
      ]
    },
    {
      "cell_type": "code",
      "execution_count": 332,
      "metadata": {
        "id": "6UMpzw9glCxD"
      },
      "outputs": [],
      "source": []
    }
  ],
  "metadata": {
    "colab": {
      "provenance": [],
      "mount_file_id": "1w6nF6m0lWsRG1AlHhG4Vu5UMMxidkahp",
      "authorship_tag": "ABX9TyNxyI6iw+6T320XPPxD+7hj",
      "include_colab_link": true
    },
    "kernelspec": {
      "display_name": "Python 3",
      "name": "python3"
    },
    "language_info": {
      "name": "python"
    }
  },
  "nbformat": 4,
  "nbformat_minor": 0
}